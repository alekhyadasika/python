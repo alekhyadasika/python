{
 "cells": [
  {
   "cell_type": "code",
   "execution_count": 1,
   "metadata": {},
   "outputs": [
    {
     "ename": "SyntaxError",
     "evalue": "invalid syntax (<ipython-input-1-024c6e0e185a>, line 1)",
     "output_type": "error",
     "traceback": [
      "\u001b[1;36m  File \u001b[1;32m\"<ipython-input-1-024c6e0e185a>\"\u001b[1;36m, line \u001b[1;32m1\u001b[0m\n\u001b[1;33m    Contact Application\u001b[0m\n\u001b[1;37m                      ^\u001b[0m\n\u001b[1;31mSyntaxError\u001b[0m\u001b[1;31m:\u001b[0m invalid syntax\n"
     ]
    }
   ],
   "source": [
    "Contact Application\n",
    "Add contact details\n",
    "Search the contact details\n",
    "list all the contacts(Merge/Import)\n",
    "Name 1:value\n",
    "Name2:value\n",
    "Modify or update the contact details\n",
    "delete the contact details\n",
    "contacts={}#empty dict object\n",
    "def addContact(name,phone):\n",
    "    if name not in contacts:\n",
    "        contacts[name]=phone\n",
    "        print('contact details are added successfully')\n",
    "    else:\n",
    "        print('name already exists')\n",
    "       \n",
    "    return\n",
    "addContact(\"alekhya\",'9885064839') \n",
    "addContact(\"anusha\",'9885064835')\n",
    "contact details are added successfully\n",
    "contact details are added successfully\n",
    "contacts\n",
    "{'alekhya': '9885064839', 'anusha': '9885064835'}\n",
    "def search(name):\n",
    "    if name  in contacts:\n",
    "        \n",
    "        print(name,\" :\",contacts[name])\n",
    "    else:\n",
    "        print(\"not exists\")\n",
    "    return\n",
    "search(\"alekhya\")\n",
    "alekhya  : alekhya\n",
    "def importcontacts(newContacts):\n",
    "    contacts.update(newContacts)\n",
    "    print(len(newContacts.keys()),'contacts are added')\n",
    "    return\n",
    "newContacts={'gitam':8888888888}\n",
    "importcontacts(newContacts)\n",
    "​\n",
    "1 contacts are added\n",
    "def delete(name):\n",
    "    if name in contacts:\n",
    "        del contacts[name]\n",
    "        print(name,\"deleted successfully\")\n",
    "    else:\n",
    "        print(name,\"not present\") \n",
    "    return\n",
    "delete('gitam')        \n",
    "gitam deleted successfully\n"
   ]
  }
 ],
 "metadata": {
  "kernelspec": {
   "display_name": "Python 3",
   "language": "python",
   "name": "python3"
  },
  "language_info": {
   "codemirror_mode": {
    "name": "ipython",
    "version": 3
   },
   "file_extension": ".py",
   "mimetype": "text/x-python",
   "name": "python",
   "nbconvert_exporter": "python",
   "pygments_lexer": "ipython3",
   "version": "3.7.3"
  }
 },
 "nbformat": 4,
 "nbformat_minor": 2
}
